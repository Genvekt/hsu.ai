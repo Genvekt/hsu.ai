{
 "cells": [
  {
   "cell_type": "code",
   "execution_count": 1,
   "metadata": {},
   "outputs": [
    {
     "name": "stdout",
     "output_type": "stream",
     "text": [
      "1 component\n",
      "[[  1.415]\n",
      " [  4.243]\n",
      " [ 14.142]\n",
      " [-11.313]\n",
      " [ -8.487]\n",
      " [  0.   ]]\n",
      "2 components\n",
      "[[  1.415  -0.119]\n",
      " [  4.243  -0.008]\n",
      " [ 14.142   0.055]\n",
      " [-11.313  -0.104]\n",
      " [ -8.487   0.207]\n",
      " [  0.     -0.03 ]]\n"
     ]
    }
   ],
   "source": [
    "# ok. You have an idea of what is PCA - finding dimensions, explaining the data the best way\n",
    "# how to run PCA?\n",
    "\n",
    "import numpy as np\n",
    "from sklearn.decomposition import PCA\n",
    "\n",
    "# print 3 symbols in fixed notation\n",
    "np.set_printoptions(precision=3, suppress=True)\n",
    "\n",
    "X = np.matrix([\n",
    "    [-1, 0.1, 1],\n",
    "    [-3, 0.01, 3],\n",
    "    [-10, 0.02, 10],\n",
    "    [8, -0.01, -8],\n",
    "    [6, -0.3, -6],\n",
    "    [0, -0, 0],\n",
    "])\n",
    "\n",
    "pca = PCA(n_components=1)\n",
    "X_reduced = pca.fit_transform(X)\n",
    "X_reduced2 = PCA(n_components=2).fit_transform(X)\n",
    "\n",
    "# note these are just distances from 0!\n",
    "print(\"1 component\")\n",
    "print(X_reduced)\n",
    "\n",
    "print(\"2 components\")\n",
    "print(X_reduced2)"
   ]
  },
  {
   "cell_type": "code",
   "execution_count": 2,
   "metadata": {},
   "outputs": [
    {
     "name": "stdout",
     "output_type": "stream",
     "text": [
      "Transformation matrix 1D:\n",
      "[[-0.707]\n",
      " [ 0.007]\n",
      " [ 0.707]]\n",
      "Transformed matrix 1D:\n",
      "[[  1.415]\n",
      " [  4.243]\n",
      " [ 14.142]\n",
      " [-11.313]\n",
      " [ -8.487]\n",
      " [  0.   ]]\n",
      "Transformation matrix 2D:\n",
      "[[-0.707 -0.005]\n",
      " [ 0.007 -1.   ]\n",
      " [ 0.707  0.005]]\n",
      "Transformed matrix 2D:\n",
      "[[  1.415  -0.119]\n",
      " [  4.243  -0.008]\n",
      " [ 14.142   0.055]\n",
      " [-11.313  -0.104]\n",
      " [ -8.487   0.207]\n",
      " [  0.     -0.03 ]]\n",
      "Apply trasformation to NEW data:\n",
      "[[70.716]]\n"
     ]
    }
   ],
   "source": [
    "# how to obtain transformation matrix T from 3D to 1D or 2D?\n",
    "# Obviosly, solve equation!\n",
    "#     (X - μ) * T = X_reduced\n",
    "# where (X - μ) is just a centered matrix X\n",
    "\n",
    "μ = np.mean(X, 0)\n",
    "X_ = X - μ\n",
    "# use LSE method\n",
    "T1 = np.linalg.pinv(X_.T * X_) * X_.T * X_reduced\n",
    "T2 = np.linalg.pinv(X_.T * X_) * X_.T * X_reduced2\n",
    "print(\"Transformation matrix 1D:\")\n",
    "print(T1)\n",
    "print(\"Transformed matrix 1D:\")\n",
    "print(((X - μ) * T1))\n",
    "\n",
    "# exactly the same values as PCA provided, but we can now project other points!\n",
    "print(\"Transformation matrix 2D:\")\n",
    "print(T2)\n",
    "print(\"Transformed matrix 2D:\")\n",
    "print(((X - μ) * T2))\n",
    "\n",
    "print(\"Apply trasformation to NEW data:\")\n",
    "print(np.matrix([[-50, 1, 50]]) * T1)"
   ]
  },
  {
   "cell_type": "code",
   "execution_count": 3,
   "metadata": {},
   "outputs": [
    {
     "name": "stdout",
     "output_type": "stream",
     "text": [
      "==================== U ======================\n",
      "[[-0.069 -0.445  0.874  0.134  0.123 -0.012]\n",
      " [-0.207 -0.031 -0.026  0.636 -0.732  0.123]\n",
      " [-0.69   0.206 -0.09   0.416  0.547 -0.02 ]\n",
      " [ 0.552 -0.389 -0.293  0.572  0.357 -0.066]\n",
      " [ 0.414  0.771  0.373  0.271  0.091  0.113]\n",
      " [-0.    -0.112 -0.051 -0.063  0.118  0.983]]\n",
      "==================== Σ ======================\n",
      "[[20.494  0.     0.   ]\n",
      " [ 0.     0.268  0.   ]\n",
      " [ 0.     0.     0.   ]\n",
      " [ 0.     0.     0.   ]\n",
      " [ 0.     0.     0.   ]\n",
      " [ 0.     0.     0.   ]]\n",
      "==================== V ======================\n",
      "[[ 0.707 -0.007 -0.707]\n",
      " [-0.005 -1.     0.005]\n",
      " [ 0.707 -0.     0.707]]\n",
      "Look, we got the same matrix 1D!\n",
      "[[ -1.415]\n",
      " [ -4.243]\n",
      " [-14.142]\n",
      " [ 11.313]\n",
      " [  8.487]\n",
      " [ -0.   ]]\n",
      "Look, we got the same matrix 2D!\n",
      "[[ -1.415  -0.119]\n",
      " [ -4.243  -0.008]\n",
      " [-14.142   0.055]\n",
      " [ 11.313  -0.104]\n",
      " [  8.487   0.207]\n",
      " [ -0.     -0.03 ]]\n"
     ]
    }
   ],
   "source": [
    "from numpy.linalg import svd\n",
    "\n",
    "U, s, V_T = svd(X - μ)\n",
    "print(\"==================== U ======================\")\n",
    "print(U)\n",
    "print(\"==================== Σ ======================\")\n",
    "Σ = np.zeros((U.shape[1], V_T.shape[0]), dtype=float)\n",
    "Σ[:V_T.shape[0], :V_T.shape[0]] = np.diag(s)\n",
    "print(Σ)\n",
    "print(\"==================== V ======================\")\n",
    "print(V_T)\n",
    "UΣ = U * Σ\n",
    "print(\"Look, we got the same matrix 1D!\")\n",
    "print(UΣ[:,:1])\n",
    "print(\"Look, we got the same matrix 2D!\")\n",
    "print(UΣ[:,:2])"
   ]
  }
 ],
 "metadata": {
  "kernelspec": {
   "display_name": "Python 3",
   "language": "python",
   "name": "python3"
  },
  "language_info": {
   "codemirror_mode": {
    "name": "ipython",
    "version": 3
   },
   "file_extension": ".py",
   "mimetype": "text/x-python",
   "name": "python",
   "nbconvert_exporter": "python",
   "pygments_lexer": "ipython3",
   "version": "3.6.3"
  }
 },
 "nbformat": 4,
 "nbformat_minor": 2
}
