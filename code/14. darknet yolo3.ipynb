{
 "cells": [
  {
   "cell_type": "code",
   "execution_count": 1,
   "metadata": {},
   "outputs": [
    {
     "name": "stdout",
     "output_type": "stream",
     "text": [
      "Here: /mnt/d/edu/HSU/hsu.ai/code\n",
      "Here now: /mnt/d/edu/HSU/hsu.ai/code\n"
     ]
    }
   ],
   "source": [
    "import sys, os\n",
    "\n",
    "here = os.getcwd()\n",
    "print(\"Here:\", here)\n",
    "os.chdir('/home/stranger/yolo/darknet/')\n",
    "\n",
    "from datasets.ml.yolo import darknet3\n",
    "# to load network you need structure (config) and weights (.weights)\n",
    "net = darknet3.load_net(b\"cfg/yolov3.cfg\", b\"yolov3.weights\", 0)\n",
    "\n",
    "# meta provides info about dataset tags\n",
    "# we need it to know how many tags are there in data/coco.names file\n",
    "meta = darknet3.load_meta(b\"cfg/coco.data\")\n",
    "os.chdir(here)\n",
    "print(\"Here now:\", here)"
   ]
  },
  {
   "cell_type": "code",
   "execution_count": 2,
   "metadata": {},
   "outputs": [
    {
     "name": "stdout",
     "output_type": "stream",
     "text": [
      "[(b'car', 0.9998590350151062, (1189.43505859375, 447.337646484375, 744.1989135742188, 195.42355346679688)), (b'car', 0.9998100996017456, (406.3435974121094, 449.5857238769531, 698.3366088867188, 192.8109893798828))]\n"
     ]
    }
   ],
   "source": [
    "bb = darknet3.detect(net, meta, b\"datasets/images/cars.jpg\")\n",
    "print(bb)\n",
    "\n",
    "# TODO: visualize bounding boxes on the image\n",
    "# crop separate images and display them together with tags"
   ]
  }
 ],
 "metadata": {
  "kernelspec": {
   "display_name": "Python 3",
   "language": "python",
   "name": "python3"
  },
  "language_info": {
   "codemirror_mode": {
    "name": "ipython",
    "version": 3
   },
   "file_extension": ".py",
   "mimetype": "text/x-python",
   "name": "python",
   "nbconvert_exporter": "python",
   "pygments_lexer": "ipython3",
   "version": "3.7.1"
  }
 },
 "nbformat": 4,
 "nbformat_minor": 2
}
