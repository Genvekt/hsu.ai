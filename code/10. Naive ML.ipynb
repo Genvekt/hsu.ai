{
 "cells": [
  {
   "cell_type": "code",
   "execution_count": 1,
   "metadata": {
    "collapsed": true
   },
   "outputs": [],
   "source": [
    "################## UNKNOWN FUNCTION WE WANT TO RESTORE ########################\n",
    "# some linear combination we don't know, non-homogenous!\n",
    "def f(x):\n",
    "    return .7 + x[0] - 2.4*x[1] + 3.01*x[2]\n",
    "\n",
    "def f_predicted(model, x):\n",
    "    return sum(map(lambda a, b: a * b, model, x))"
   ]
  },
  {
   "cell_type": "code",
   "execution_count": 2,
   "metadata": {
    "collapsed": true
   },
   "outputs": [],
   "source": [
    "import numpy as np\n",
    "import matplotlib.pyplot as plt\n",
    "import random as r\n",
    "np.set_printoptions(precision=3, floatmode=\"fixed\")"
   ]
  },
  {
   "cell_type": "code",
   "execution_count": 3,
   "metadata": {},
   "outputs": [
    {
     "name": "stdout",
     "output_type": "stream",
     "text": [
      "[0.7000000000000455, 1.0, -2.4000000000000057, 3.010000000000005, 0.0]\n"
     ]
    }
   ],
   "source": [
    "# 1. Solve as matrix equation\n",
    "\n",
    "# it should be square!!!! matrix to be inverible.\n",
    "# this is dataset\n",
    "X1 = [(r.random(), r.random(), r.random(), r.random()) for _ in range(5)]\n",
    "\n",
    "# generate target (or ground truth)\n",
    "y1 = [[f(x)] for x in X1]\n",
    "\n",
    "X1 = np.matrix(X1)\n",
    "# add bias\n",
    "X1 = np.concatenate((np.ones((X1.shape[0], 1)), X1), axis=1)\n",
    "y1 = np.matrix(y1)\n",
    "\n",
    "# X{5,5} * A{5,1} = y{5,1}\n",
    "# A = X^-1 * y\n",
    "A1 = X1.I * y1\n",
    "A1 = list(A1.flat)\n",
    "print(A1)"
   ]
  },
  {
   "cell_type": "code",
   "execution_count": 4,
   "metadata": {},
   "outputs": [
    {
     "name": "stdout",
     "output_type": "stream",
     "text": [
      "[0.697822141643762, 1.005982641604118, -2.392573528820413, 3.003833478156646, -0.004078964219908422]\n"
     ]
    }
   ],
   "source": [
    "def noise():\n",
    "    return 0.5 - r.random()\n",
    "\n",
    "# 2. Least Square Approximations (LSA)\n",
    "X2 = [(r.random(), r.random(), r.random(), r.random()) for _ in range(40000)]\n",
    "\n",
    "# generate target\n",
    "y2 = [[f(x) + noise()] for x in X2]\n",
    "\n",
    "X2 = np.matrix(X2)\n",
    "# add bias\n",
    "X2 = np.concatenate((np.ones((X2.shape[0], 1)), X2), axis=1)\n",
    "y2 = np.matrix(y2)\n",
    "\n",
    "# X[40000,5] * A[5,1] = y[40000,1]\n",
    "A2 = (X2.T * X2).I * X2.T * y2\n",
    "A2 = list(A2.flat)\n",
    "np.set_printoptions(precision=3, floatmode=\"fixed\")\n",
    "print(A2)"
   ]
  },
  {
   "cell_type": "code",
   "execution_count": 5,
   "metadata": {},
   "outputs": [
    {
     "name": "stdout",
     "output_type": "stream",
     "text": [
      "Exact solution: 0\n",
      "LSA solution: 0\n"
     ]
    }
   ],
   "source": [
    "predictions1 = [f_predicted(A1, x.flat) for x in X1]\n",
    "predictions2 = [f_predicted(A2, x.flat) for x in X1]\n",
    "\n",
    "def rmse(target, predictions):\n",
    "    #TODO write RMSE implementation\n",
    "    return 0\n",
    "\n",
    "print(\"Exact solution:\", rmse(y1.flat, predictions1))\n",
    "print(\"LSA solution:\", rmse(y1.flat, predictions2))"
   ]
  }
 ],
 "metadata": {
  "kernelspec": {
   "display_name": "Python 3",
   "language": "python",
   "name": "python3"
  },
  "language_info": {
   "codemirror_mode": {
    "name": "ipython",
    "version": 3
   },
   "file_extension": ".py",
   "mimetype": "text/x-python",
   "name": "python",
   "nbconvert_exporter": "python",
   "pygments_lexer": "ipython3",
   "version": "3.6.3"
  }
 },
 "nbformat": 4,
 "nbformat_minor": 2
}
