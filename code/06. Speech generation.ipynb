{
 "cells": [
  {
   "cell_type": "code",
   "execution_count": 1,
   "metadata": {
    "collapsed": true
   },
   "outputs": [],
   "source": [
    "# install PyAudio http://people.csail.mit.edu/hubert/pyaudio/\n",
    "# pip install pyaudio\n",
    "import pyaudio\n",
    "import wave\n",
    "import sys\n",
    "\n",
    "# default settings for record and playback\n",
    "CHUNK = 1024\n",
    "FORMAT = pyaudio.paInt16\n",
    "CHANNELS = 1\n",
    "RATE = 22050\n",
    "\n",
    "def play_stream(wave_stream):\n",
    "    global CHUNK\n",
    "    print(\"Playing...\", end='')\n",
    "    p = pyaudio.PyAudio()\n",
    "    out_stream = p.open(format=p.get_format_from_width(wave_stream.getsampwidth()),\n",
    "                channels=wave_stream.getnchannels(),\n",
    "                rate=wave_stream.getframerate(),\n",
    "                output=True)\n",
    "    data = wave_stream.readframes(CHUNK)\n",
    "    while data:\n",
    "        out_stream.write(data)\n",
    "        data = wave_stream.readframes(CHUNK)\n",
    "    out_stream.stop_stream()\n",
    "    out_stream.close()\n",
    "    p.terminate()\n",
    "    print(\"played\")\n",
    "\n",
    "\n",
    "def record_to_file(filename, seconds=5):\n",
    "    global FORMAT, CHANNELS, RATE\n",
    "    RECORD_SECONDS = seconds\n",
    "    p = pyaudio.PyAudio()\n",
    "    stream = p.open(format=FORMAT,\n",
    "                channels=CHANNELS,\n",
    "                rate=RATE,\n",
    "                input=True,\n",
    "                frames_per_buffer=CHUNK)\n",
    "    print(\"Start recording... \")\n",
    "    frames = []\n",
    "    for i in range(0, int(RATE / CHUNK * RECORD_SECONDS)):\n",
    "        data = stream.read(CHUNK)\n",
    "        frames.append(data)\n",
    "    print(\"...recorded\", seconds, \"second(s)\")\n",
    "    stream.stop_stream()\n",
    "    stream.close()\n",
    "    p.terminate()\n",
    "    wf = wave.open(filename, 'wb')\n",
    "    wf.setnchannels(CHANNELS)\n",
    "    wf.setsampwidth(p.get_sample_size(FORMAT))\n",
    "    wf.setframerate(RATE)\n",
    "    wf.writeframes(b''.join(frames))\n",
    "    wf.close()"
   ]
  },
  {
   "cell_type": "code",
   "execution_count": 2,
   "metadata": {},
   "outputs": [],
   "source": [
    "# yandex speech kit\n",
    "with open(\"go.gcp.id\") as f:\n",
    "    api_key = f.readline()"
   ]
  },
  {
   "cell_type": "code",
   "execution_count": 5,
   "metadata": {},
   "outputs": [
    {
     "name": "stdout",
     "output_type": "stream",
     "text": [
      "Playing...played\n"
     ]
    }
   ],
   "source": [
    "# simple docs: https://cloud.google.com/text-to-speech/docs/quickstart-protocol\n",
    "# when enabling API just create API key\n",
    "\n",
    "import requests\n",
    "import base64\n",
    "\n",
    "url = \"https://texttospeech.googleapis.com/v1beta1/text:synthesize\"\n",
    "\n",
    "request_data = {\n",
    "    'input':{\n",
    "        'text':'Android is a mobile operating system developed by Google.'\n",
    "    },\n",
    "    'voice':{\n",
    "        'languageCode':'en-gb',\n",
    "        'name':'en-GB-Standard-A',\n",
    "        'ssmlGender':'FEMALE'\n",
    "    },\n",
    "    'audioConfig':{\n",
    "        'audioEncoding':'MP3'\n",
    "    }\n",
    "}\n",
    "\n",
    "headers = {\n",
    "    \"X-Goog-Api-Key\": api_key,\n",
    "    \"Content-Type\": \"application/json\"\n",
    "}\n",
    "\n",
    "resp = requests.post(url, json=request_data, headers=headers)\n",
    "sound = resp.json()['audioContent']\n",
    "_bytes = base64.b64decode(sound)\n",
    "with open('datasets/sound/google.t2s.mp3', 'wb') as f:\n",
    "    f.write(_bytes)\n",
    "    \n",
    "request_data['audioConfig']['audioEncoding'] = 'LINEAR16'\n",
    "# https://cloud.google.com/text-to-speech/docs/voices\n",
    "request_data['voice']['languageCode'] = 'en-US'\n",
    "request_data['voice']['name'] = 'en-US-Standard-B'\n",
    "request_data['voice']['ssmlGender'] = 'MALE'\n",
    "\n",
    "resp = requests.post(url, json=request_data, headers=headers)\n",
    "sound = resp.json()['audioContent']\n",
    "_bytes = base64.b64decode(sound)\n",
    "with open('datasets/sound/google.t2s.wav', 'wb') as f:\n",
    "    f.write(_bytes)\n",
    "wf = wave.open('datasets/sound/google.t2s.wav', 'rb')\n",
    "play_stream(wf)"
   ]
  },
  {
   "cell_type": "code",
   "execution_count": 4,
   "metadata": {},
   "outputs": [
    {
     "name": "stdout",
     "output_type": "stream",
     "text": [
      "Genders: ['SSML_VOICE_GENDER_UNSPECIFIED', 'MALE', 'FEMALE', 'NEUTRAL']\n",
      "Encodings: ['AUDIO_ENCODING_UNSPECIFIED', 'LINEAR16', 'MP3', 'OGG_OPUS']\n"
     ]
    }
   ],
   "source": [
    "# or use API\n",
    "# pip install --upgrade google-cloud-texttospeech\n",
    "from google.cloud import texttospeech\n",
    "\n",
    "# setup credentials file first!!!!\n",
    "\n",
    "# client = texttospeech.TextToSpeechClient()\n",
    "# synthesis_input = texttospeech.types.SynthesisInput(text=\"Hello, World!\")\n",
    "\n",
    "print(\"Genders:\", texttospeech.enums.SsmlVoiceGender._member_names_)\n",
    "# voice = texttospeech.types.VoiceSelectionParams(\n",
    "#     language_code='en-US',\n",
    "#     ssml_gender=texttospeech.enums.SsmlVoiceGender.NEUTRAL)\n",
    "\n",
    "print(\"Encodings:\", texttospeech.enums.AudioEncoding._member_names_)\n",
    "# audio_config = texttospeech.types.AudioConfig(audio_encoding=texttospeech.enums.AudioEncoding.MP3)\n",
    "# response = client.synthesize_speech(synthesis_input, voice, audio_config)\n",
    "\n",
    "# with open('datasets/sound/google.t2s.api.mp3', 'wb') as out:\n",
    "#     # Write the response to the output file.\n",
    "#     out.write(response.audio_content)"
   ]
  }
 ],
 "metadata": {
  "kernelspec": {
   "display_name": "Python 3",
   "language": "python",
   "name": "python3"
  },
  "language_info": {
   "codemirror_mode": {
    "name": "ipython",
    "version": 3
   },
   "file_extension": ".py",
   "mimetype": "text/x-python",
   "name": "python",
   "nbconvert_exporter": "python",
   "pygments_lexer": "ipython3",
   "version": "3.6.3"
  }
 },
 "nbformat": 4,
 "nbformat_minor": 2
}
