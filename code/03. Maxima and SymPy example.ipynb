{
 "cells": [
  {
   "cell_type": "code",
   "execution_count": 1,
   "metadata": {},
   "outputs": [
    {
     "name": "stdout",
     "output_type": "stream",
     "text": [
      "x = - sqrt(2);  x = sqrt(2)\n"
     ]
    }
   ],
   "source": [
    "# install maxima http://maxima.sourceforge.net/download.html\n",
    "import subprocess\n",
    "location = 'C:/tmp/'\n",
    "maxima = 'D:/soft/maxima/bin/maxima.bat'\n",
    "query = \"x^2=2\"\n",
    "\n",
    "with open(location + 'temp.mx', 'w') as file:\n",
    "    file.write('solve({});\\n'.format(query))\n",
    "\n",
    "txt = subprocess.check_output(\n",
    "    [maxima, \"-q\", \"-b\", location + \"temp.mx\"]\n",
    ")\n",
    "answers = str(txt).split('\\\\r\\\\n')[4][5:].strip()[1:-1].split(',')\n",
    "print(*answers, sep=\"; \")"
   ]
  },
  {
   "cell_type": "code",
   "execution_count": 2,
   "metadata": {},
   "outputs": [
    {
     "name": "stdout",
     "output_type": "stream",
     "text": [
      "4.242640687119285 <class 'float'>\n",
      "3*sqrt(2) <class 'sympy.core.mul.Mul'>\n",
      "3*x**2 - 2 <class 'sympy.core.add.Add'>\n",
      "df/dx = 6*x\n",
      "df/dy = 0\n",
      "∫fdx = x**3 - 2*x\n",
      "∫fdy = y*(3*x**2 - 2)\n",
      "Eq(x**2, 2) <class 'sympy.core.relational.Equality'>\n",
      "{-sqrt(2), sqrt(2)}\n"
     ]
    }
   ],
   "source": [
    "# based on https://docs.sympy.org/latest/tutorial/index.html\n",
    "import sympy\n",
    "import math\n",
    "\n",
    "print(math.sqrt(18), type(math.sqrt(18)))\n",
    "print(sympy.sqrt(18), type(sympy.sqrt(18)))\n",
    "\n",
    "x, y = sympy.symbols('x y')\n",
    "f = x ** 2 * 3 - 2\n",
    "print(f, type(f))\n",
    "print(\"df/dx =\", sympy.diff(f, x))\n",
    "print(\"df/dy =\", sympy.diff(f, y))\n",
    "print(\"∫fdx =\", sympy.integrate(f, x))\n",
    "print(\"∫fdy =\", sympy.integrate(f, y))\n",
    "\n",
    "equation = sympy.Eq(x ** 2, 2)\n",
    "print(equation, type(equation))\n",
    "\n",
    "print(sympy.solveset(equation, x))"
   ]
  }
 ],
 "metadata": {
  "kernelspec": {
   "display_name": "Python 3",
   "language": "python",
   "name": "python3"
  },
  "language_info": {
   "codemirror_mode": {
    "name": "ipython",
    "version": 3
   },
   "file_extension": ".py",
   "mimetype": "text/x-python",
   "name": "python",
   "nbconvert_exporter": "python",
   "pygments_lexer": "ipython3",
   "version": "3.6.3"
  }
 },
 "nbformat": 4,
 "nbformat_minor": 2
}
