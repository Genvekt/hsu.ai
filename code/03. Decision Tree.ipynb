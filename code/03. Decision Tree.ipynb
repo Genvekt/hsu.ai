{
 "cells": [
  {
   "cell_type": "code",
   "execution_count": null,
   "metadata": {
    "collapsed": true
   },
   "outputs": [],
   "source": [
    "class Production(object):\n",
    "    is_leaf = False\n",
    "    message = None\n",
    "    borders = []\n",
    "    children = []\n",
    "    feature_number = -1\n",
    "    \n",
    "    def __init__(self, message, feature_number=-1, borders=[], children=[], is_leaf=False):\n",
    "        self.feature_number = feature_number\n",
    "        self.message = message\n",
    "        self.borders = borders\n",
    "        self.children = children\n",
    "        self.is_leaf = is_leaf\n",
    "    \n",
    "    def get_child(self, values):\n",
    "        for i in range(len(self.borders)):\n",
    "            if self.borders[i] > values[self.feature_number]:\n",
    "                return self.children[i]\n",
    "        return self.children[-1]"
   ]
  },
  {
   "cell_type": "code",
   "execution_count": null,
   "metadata": {},
   "outputs": [],
   "source": [
    "def run_expert_system(start_node, vector):\n",
    "    print(vector, end=\": \")\n",
    "    node = start_node\n",
    "    while not node.is_leaf:\n",
    "        print(node.message, end=\" -> \")\n",
    "        node = node.get_child(vector)\n",
    "    print(node.message)"
   ]
  },
  {
   "cell_type": "code",
   "execution_count": null,
   "metadata": {},
   "outputs": [
    {
     "name": "stdout",
     "output_type": "stream",
     "text": [
      "[0, 0]: Real? -> Sign? -> zero\n",
      "[1, 0]: Real? -> Sign? -> positive\n",
      "[-1, 0]: Real? -> Sign? -> negative\n",
      "[-3, 4]: Real? -> complex\n"
     ]
    }
   ],
   "source": [
    "import pickle\n",
    "\n",
    "# this is an example of number classification\n",
    "pN = Production(\"negative\", is_leaf=True)\n",
    "pP = Production(\"positive\", is_leaf=True)\n",
    "pZ = Production(\"zero\", is_leaf=True)\n",
    "pC = Production(\"complex\", is_leaf=True)\n",
    "pS = Production(\"Sign?\", 0, [-0.0001, 0.00001], [pN, pZ, pP])\n",
    "pR = Production(\"Real?\", 1, [-0.0001, 0.00001], [pC, pS, pC])\n",
    "\n",
    "pickle.dump(pR, open(\"expert_system.pickle\", \"wb\"))\n",
    "start_node = pickle.load(open(\"expert_system.pickle\", \"rb\"))\n",
    "\n",
    "run_expert_system(start_node, [0, 0])\n",
    "run_expert_system(start_node, [1, 0])\n",
    "run_expert_system(start_node, [-1, 0])\n",
    "run_expert_system(start_node, [-3, 4])\n",
    "\n",
    "# TODO: write a set of productions, that implement lecture picture.\n",
    "# let the features be [income, criminal_record, years_in_job, pays_with_credit_card]\n",
    "# run for\n",
    "# client = [45000, 0, 3, 1]\n",
    "# run_expert_system(start_node, client)"
   ]
  }
 ],
 "metadata": {
  "kernelspec": {
   "display_name": "Python 3",
   "language": "python",
   "name": "python3"
  },
  "language_info": {
   "codemirror_mode": {
    "name": "ipython",
    "version": 3
   },
   "file_extension": ".py",
   "mimetype": "text/x-python",
   "name": "python",
   "nbconvert_exporter": "python",
   "pygments_lexer": "ipython3",
   "version": "3.6.3"
  }
 },
 "nbformat": 4,
 "nbformat_minor": 2
}
