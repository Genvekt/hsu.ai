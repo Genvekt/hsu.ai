{
 "cells": [
  {
   "cell_type": "code",
   "execution_count": 1,
   "metadata": {
    "collapsed": true
   },
   "outputs": [],
   "source": [
    "# originally comes from https://www.kaggle.com/c/dogs-vs-cats\n",
    "import cv2\n",
    "import numpy as np\n",
    "import os\n",
    "import matplotlib.pyplot as plt"
   ]
  },
  {
   "cell_type": "code",
   "execution_count": 2,
   "metadata": {
    "collapsed": true
   },
   "outputs": [],
   "source": [
    "#                        STOP HERE                                            #\n",
    "#!!!!!!!!!!!!!!!!!!!!!!!!!!!!!!!!!!!!!!!!!!!!!!!!!!!!!!!!!!!!!!!!!!!!!!!!!!!!!!\n",
    "# NB run this code only if you want to collect dataset by yourselves!!!!!!!!!!!\n",
    "# use pickle instead                                                !!!!!!!!!!!\n",
    "#!!!!!!!!!!!!!!!!!!!!!!!!!!!!!!!!!!!!!!!!!!!!!!!!!!!!!!!!!!!!!!!!!!!!!!!!!!!!!!\n",
    "\n",
    "SIDE = 32\n",
    "X = []\n",
    "y = []\n",
    "_dir = \"D:/dataset/cats-dogs/train/\"\n",
    "\n",
    "for i in range(4000):\n",
    "    cat = \"cat.{}.jpg\".format(i)\n",
    "    dog = \"dog.{}.jpg\".format(i)\n",
    "    catimg = cv2.imread(_dir + cat, cv2.IMREAD_COLOR)\n",
    "    dogimg = cv2.imread(_dir + dog, cv2.IMREAD_COLOR)\n",
    "    catimg = cv2.resize(catimg, (SIDE, SIDE), interpolation = cv2.INTER_CUBIC)\n",
    "    dogimg = cv2.resize(dogimg, (SIDE, SIDE), interpolation = cv2.INTER_CUBIC)\n",
    "    X.extend([catimg.flatten(), dogimg.flatten()])\n",
    "    y.extend([0, 1])\n",
    "\n",
    "import pickle\n",
    "\n",
    "X = np.array(X)\n",
    "y = np.array(y)\n",
    "\n",
    "with open('datasets/ml/cats-dogs.pickle', 'wb') as f: pickle.dump((X, y), f)"
   ]
  },
  {
   "cell_type": "code",
   "execution_count": 3,
   "metadata": {},
   "outputs": [
    {
     "name": "stdout",
     "output_type": "stream",
     "text": [
      "DOG\n"
     ]
    },
    {
     "data": {
      "image/png": "[encoded data removed]",
      "text/plain": [
       "<matplotlib.figure.Figure at 0x2309e2fb358>"
      ]
     },
     "metadata": {},
     "output_type": "display_data"
    },
    {
     "name": "stdout",
     "output_type": "stream",
     "text": [
      "CAT\n"
     ]
    },
    {
     "data": {
      "image/png": "[encoded data removed]",
      "text/plain": [
       "<matplotlib.figure.Figure at 0x230a5457128>"
      ]
     },
     "metadata": {},
     "output_type": "display_data"
    }
   ],
   "source": [
    "with open('datasets/ml/cats-dogs.pickle', 'rb') as f: \n",
    "    X, y = pickle.load(f)\n",
    "\n",
    "classes = {\n",
    "    0: \"CAT\",\n",
    "    1: \"DOG\",\n",
    "}\n",
    "    \n",
    "print(classes[y[123]])\n",
    "plt.imshow(cv2.cvtColor(X[123].reshape((SIDE, SIDE, 3)), cv2.COLOR_BGR2RGB))\n",
    "plt.show()\n",
    "\n",
    "print(classes[y[124]])\n",
    "plt.imshow(cv2.cvtColor(X[124].reshape((SIDE, SIDE, 3)), cv2.COLOR_BGR2RGB))\n",
    "plt.show()"
   ]
  },
  {
   "cell_type": "code",
   "execution_count": 4,
   "metadata": {},
   "outputs": [],
   "source": [
    "import time\n",
    "from sklearn.neural_network import MLPClassifier"
   ]
  },
  {
   "cell_type": "code",
   "execution_count": 5,
   "metadata": {},
   "outputs": [
    {
     "name": "stdout",
     "output_type": "stream",
     "text": [
      "Seconds passed: 539.5770781040192\n"
     ]
    }
   ],
   "source": [
    "# be careful! It runs for ages for MLP classifer\n",
    "start = time.time()\n",
    "\n",
    "\n",
    "clf = MLPClassifier(\n",
    "    solver='lbfgs',    # https://en.wikipedia.org/wiki/Broyden%E2%80%93Fletcher%E2%80%93Goldfarb%E2%80%93Shanno_algorithm\n",
    "                       # or sgd of adam\n",
    "    alpha=1e-5,        # regularization term\n",
    "    activation='relu', # rectifier linear unit\n",
    "    hidden_layer_sizes=(256, 16),\n",
    "                       # starts with the size of input, which is SIDE * SIDE * 3 = 24 * 24 * 3\n",
    "    random_state=7,    # seed for random generator\n",
    "    verbose=True,\n",
    "    max_iter=500,      # use this to tune the time relatively\n",
    ")\n",
    "clf.fit(X, y)\n",
    "\n",
    "print(\"Seconds passed:\", time.time() - start)"
   ]
  },
  {
   "cell_type": "code",
   "execution_count": 6,
   "metadata": {
    "collapsed": true
   },
   "outputs": [],
   "source": [
    "# SAVE !!!!! \n",
    "with open('datasets/ml/cats-dogs-ann.pickle', 'wb') as f:\n",
    "    pickle.dump(clf, f)"
   ]
  },
  {
   "cell_type": "code",
   "execution_count": 7,
   "metadata": {},
   "outputs": [
    {
     "name": "stdout",
     "output_type": "stream",
     "text": [
      "['DOG', 'DOG']\n",
      "[[0.46771995 0.53228005]\n",
      " [0.46771995 0.53228005]]\n",
      "Accuracy: 0.622625\n",
      "---------------------\n",
      "             precision    recall  f1-score   support\n",
      "\n",
      "          0       0.99      0.25      0.40      4000\n",
      "          1       0.57      1.00      0.73      4000\n",
      "\n",
      "avg / total       0.78      0.62      0.56      8000\n",
      "\n"
     ]
    }
   ],
   "source": [
    "with open('datasets/ml/cats-dogs-ann.pickle', 'rb') as f:\n",
    "    clf = pickle.load(f)\n",
    "\n",
    "y1 = clf.predict(X)\n",
    "\n",
    "# check for sample\n",
    "print([\n",
    "    classes[cls] for cls in clf.predict(X[123:125])\n",
    "])\n",
    "print(clf.predict_proba(X[123:125]))\n",
    "from sklearn.metrics import classification_report, accuracy_score\n",
    "\n",
    "print(\"Accuracy:\", accuracy_score(y, y1))\n",
    "print(\"---------------------\")\n",
    "print(classification_report(y, y1))"
   ]
  },
  {
   "cell_type": "code",
   "execution_count": 8,
   "metadata": {},
   "outputs": [
    {
     "name": "stdout",
     "output_type": "stream",
     "text": [
      "Loss: 0.5564544787562095, iterations: 501\n",
      "(3072, 256)\n",
      "(256, 16)\n",
      "(16, 1)\n",
      "256\n",
      "16\n",
      "1\n"
     ]
    }
   ],
   "source": [
    "print(\"Loss: {}, iterations: {}\".format(clf.loss_, clf.n_iter_))\n",
    "for layer in clf.coefs_:\n",
    "    print(layer.shape)\n",
    "\n",
    "for bias in clf.intercepts_:\n",
    "    print(len(bias))"
   ]
  }
 ],
 "metadata": {
  "kernelspec": {
   "display_name": "Python 3",
   "language": "python",
   "name": "python3"
  },
  "language_info": {
   "codemirror_mode": {
    "name": "ipython",
    "version": 3
   },
   "file_extension": ".py",
   "mimetype": "text/x-python",
   "name": "python",
   "nbconvert_exporter": "python",
   "pygments_lexer": "ipython3",
   "version": "3.6.3"
  }
 },
 "nbformat": 4,
 "nbformat_minor": 2
}
