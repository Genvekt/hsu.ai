{
 "cells": [
  {
   "cell_type": "code",
   "execution_count": 1,
   "metadata": {},
   "outputs": [],
   "source": [
    "# distance between a and b\n",
    "def d(a, b):\n",
    "    # TODO: what kind of measure should we select L1, L2?\n",
    "    return 0\n",
    "\n",
    "\n",
    "# how far did we go?\n",
    "def g(lab, dist, position, destination):\n",
    "    # TODO: distance already covered\n",
    "    return 0\n",
    "\n",
    "\n",
    "# lower-bound estimation for remaining path\n",
    "def h(lab, dist, position, destination):\n",
    "    # TODO: what is the best possible remainder?\n",
    "    return 0\n",
    "\n",
    "\n",
    "def A_star(lab, dist, position, destination):\n",
    "    neighbours = [\n",
    "                    (1, 0), (0, 1), (-1, 0), (0, -1),\n",
    "                    (1, 1), (-1, 1), (1, -1), (-1, -1),\n",
    "                 ]   # 9-neghbourhood\n",
    "    candidates = []  # where go next?\n",
    "    \n",
    "    for neighbour in neighbours:\n",
    "        candidate = (position[0] + neighbour[0], position[1] + neighbour[1]) \n",
    "        # it is inside labyrinth\n",
    "        if 0 <= candidate[0] < len(lab) and 0 <= candidate[1] < len(lab[0]):\n",
    "            # it is accessible\n",
    "            if lab[candidate[0]][candidate[1]] == 0:\n",
    "                candidates.append(candidate)\n",
    "\n",
    "    # best choise\n",
    "    result, estimation = position, 10000000\n",
    "    for candidate in candidates:\n",
    "        new_dist = dist + d(position, candidate)\n",
    "        A = g(lab, new_dist, candidate, destination) + \\\n",
    "            h(lab, new_dist, candidate, destination)\n",
    "        # print(A, candidate)\n",
    "        if A < estimation:\n",
    "            result, estimation = candidate, A\n",
    "    lab[result[0]][result[1]] = 2   # visited\n",
    "    return result, d(result, position)"
   ]
  },
  {
   "cell_type": "code",
   "execution_count": 2,
   "metadata": {},
   "outputs": [
    {
     "name": "stdout",
     "output_type": "stream",
     "text": [
      "Go to (1, 1)\n",
      "3 0 0 0 0\n",
      "0 2 0 1 0\n",
      "0 0 0 1 0\n",
      "0 0 1 1 0\n",
      "0 0 0 0 0\n",
      "Go to (2, 2)\n",
      "3 0 0 0 0\n",
      "0 2 0 1 0\n",
      "0 0 2 1 0\n",
      "0 0 1 1 0\n",
      "0 0 0 0 0\n",
      "Go to (3, 1)\n",
      "3 0 0 0 0\n",
      "0 2 0 1 0\n",
      "0 0 2 1 0\n",
      "0 2 1 1 0\n",
      "0 0 0 0 0\n",
      "Go to (4, 2)\n",
      "3 0 0 0 0\n",
      "0 2 0 1 0\n",
      "0 0 2 1 0\n",
      "0 2 1 1 0\n",
      "0 0 2 0 0\n",
      "Go to (4, 3)\n",
      "3 0 0 0 0\n",
      "0 2 0 1 0\n",
      "0 0 2 1 0\n",
      "0 2 1 1 0\n",
      "0 0 2 2 0\n",
      "Go to (4, 4)\n",
      "3 0 0 0 0\n",
      "0 2 0 1 0\n",
      "0 0 2 1 0\n",
      "0 2 1 1 0\n",
      "0 0 2 2 2\n"
     ]
    }
   ],
   "source": [
    "lab = [\n",
    "    [3, 0, 0, 0, 0],\n",
    "    [0, 0, 0, 1, 0],\n",
    "    [0, 0, 0, 1, 0],\n",
    "    [0, 0, 1, 1, 0],\n",
    "    [0, 0, 0, 0, 0],\n",
    "]\n",
    "\n",
    "start = (0, 0)\n",
    "finish = (4, 4)\n",
    "passed = 0\n",
    "while start != finish:\n",
    "    start, delta = A_star(lab, passed, start, finish)\n",
    "    print(\"Go to\", start)\n",
    "    for line in lab:\n",
    "        print(*line)\n",
    "    passed += delta"
   ]
  },
  {
   "cell_type": "code",
   "execution_count": null,
   "metadata": {
    "collapsed": true
   },
   "outputs": [],
   "source": []
  }
 ],
 "metadata": {
  "kernelspec": {
   "display_name": "Python 3",
   "language": "python",
   "name": "python3"
  },
  "language_info": {
   "codemirror_mode": {
    "name": "ipython",
    "version": 3
   },
   "file_extension": ".py",
   "mimetype": "text/x-python",
   "name": "python",
   "nbconvert_exporter": "python",
   "pygments_lexer": "ipython3",
   "version": "3.6.3"
  }
 },
 "nbformat": 4,
 "nbformat_minor": 2
}
