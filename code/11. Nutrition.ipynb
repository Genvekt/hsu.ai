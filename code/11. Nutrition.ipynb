{
 "cells": [
  {
   "cell_type": "code",
   "execution_count": 1,
   "metadata": {
    "collapsed": true
   },
   "outputs": [],
   "source": [
    "import numpy as np\n",
    "import pandas as pd\n",
    "import matplotlib.pyplot as plt\n",
    "\n",
    "# originally from https://data.world/adamhelsinger/food-nutrition-information\n",
    "df = pd.read_csv('datasets/ml/nutrition.csv', sep=',', header=0)\n",
    "\n",
    "# fill N/A with NaN/0-s\n",
    "df.fillna(np.nan, inplace=True)\n",
    "# df.fillna(0, inplace=True)\n",
    "\n",
    "cols = df.columns[2:]\n",
    "names = df.values[1:, 0]\n",
    "values = df.values[1:, 1:-1].astype('float')\n",
    "\n",
    "dataset = pd.DataFrame(values, columns=cols)\n",
    "\n",
    "# TODO find correlation matrix and feature variance\n",
    "# Which will you keep to represent nutrition?"
   ]
  }
 ],
 "metadata": {
  "kernelspec": {
   "display_name": "Python 3",
   "language": "python",
   "name": "python3"
  },
  "language_info": {
   "codemirror_mode": {
    "name": "ipython",
    "version": 3
   },
   "file_extension": ".py",
   "mimetype": "text/x-python",
   "name": "python",
   "nbconvert_exporter": "python",
   "pygments_lexer": "ipython3",
   "version": "3.6.3"
  }
 },
 "nbformat": 4,
 "nbformat_minor": 2
}
