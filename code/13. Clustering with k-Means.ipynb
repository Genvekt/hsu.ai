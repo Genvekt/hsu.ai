{
 "cells": [
  {
   "cell_type": "code",
   "execution_count": 1,
   "metadata": {},
   "outputs": [
    {
     "data": {
      "text/plain": [
       "[<matplotlib.lines.Line2D at 0x27611907438>]"
      ]
     },
     "execution_count": 1,
     "metadata": {},
     "output_type": "execute_result"
    }
   ],
   "source": [
    "import matplotlib.pyplot as plt\n",
    "import numpy as np\n",
    "import pickle\n",
    "\n",
    "markers = ['ro', 'b*', 'g+', 'b*']\n",
    "\n",
    "with open('datasets/ml/wifi.pickle', 'rb') as f: \n",
    "    X = pickle.load(f)\n",
    "        \n",
    "plt.plot(X[:,1], X[:,0], markers[0])\n",
    "plt.show()"
   ]
  },
  {
   "cell_type": "code",
   "execution_count": 3,
   "metadata": {},
   "outputs": [],
   "source": [
    "from sklearn.cluster import KMeans\n",
    "\n",
    "kmeans = KMeans(n_clusters=2, random_state=0).fit(X)\n",
    "\n",
    "for p, c in zip(X, kmeans.labels_):\n",
    "    plt.plot(p[1:], p[:1], markers[c])\n",
    "plt.show()"
   ]
  },
  {
   "cell_type": "code",
   "execution_count": 4,
   "metadata": {},
   "outputs": [],
   "source": [
    "from sklearn.metrics import silhouette_score\n",
    "\n",
    "print(\"Cluster centroids:\", kmeans.cluster_centers_)\n",
    "\n",
    "# we can also predict a cluster now! Similar to kNN with 1-NN :)\n",
    "print(\"Prediction:\", kmeans.predict([[39.5, -77], [41, -74.5]]))\n",
    "\n",
    "labels = kmeans.labels_\n",
    "print(\"S =\", silhouette_score(X, labels, metric='euclidean'))"
   ]
  },
  {
   "cell_type": "code",
   "execution_count": 6,
   "metadata": {},
   "outputs": [],
   "source": [
    "kmeans = KMeans(n_clusters=3, random_state=0).fit(X)\n",
    "\n",
    "for p, c in zip(X, kmeans.labels_):\n",
    "    plt.plot(p[1:], p[:1], markers[c])\n",
    "plt.show()\n",
    "\n",
    "print(\"Cluster centroids:\", kmeans.cluster_centers_)\n",
    "print(\"Prediction:\", kmeans.predict([[39.5, -77], [41, -74.5]]))\n",
    "\n",
    "labels = kmeans.labels_\n",
    "print(\"S =\", silhouette_score(X, labels, metric='euclidean'))"
   ]
  }
 ],
 "metadata": {
  "kernelspec": {
   "display_name": "Python 3",
   "language": "python",
   "name": "python3"
  },
  "language_info": {
   "codemirror_mode": {
    "name": "ipython",
    "version": 3
   },
   "file_extension": ".py",
   "mimetype": "text/x-python",
   "name": "python",
   "nbconvert_exporter": "python",
   "pygments_lexer": "ipython3",
   "version": "3.6.3"
  }
 },
 "nbformat": 4,
 "nbformat_minor": 2
}
