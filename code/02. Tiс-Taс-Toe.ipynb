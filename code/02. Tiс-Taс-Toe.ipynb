{
 "cells": [
  {
   "cell_type": "code",
   "execution_count": 1,
   "metadata": {},
   "outputs": [],
   "source": [
    "import itertools\n",
    "\n",
    "class Field(object):\n",
    "    state = None\n",
    "    parent = None\n",
    "    children = []\n",
    "    minimax_score = None\n",
    "    \n",
    "    def __init__(self, state):\n",
    "        self.state = state\n",
    "    \n",
    "    def print_me(self):\n",
    "        for line in self.state:\n",
    "            print(*line, sep='')\n",
    "    \n",
    "    def is_move_of(self, side):\n",
    "        cells = itertools.chain(*self.state)\n",
    "        my_moves = len(c for c in cells if c == side)\n",
    "        enemy_moves = len(c for c in cells if c == ('x' if (side == 'o') else 'o'))\n",
    "        \n",
    "        # TODO: how can we evaluate, who's move?\n",
    "        return False\n",
    "\n",
    "    def is_win_of(self, side):\n",
    "        # is this field a win position for _side_ player?\n",
    "        return False\n",
    "    \n",
    "    def get_next_move(self, best_for_side):\n",
    "        # return field, which is best in terms of minimax\n",
    "        return children[-1]"
   ]
  },
  {
   "cell_type": "code",
   "execution_count": 2,
   "metadata": {
    "collapsed": true
   },
   "outputs": [],
   "source": [
    "def generate_children(field):\n",
    "    # TODO: write code that generates children fields.\n",
    "    # actually, make moves where _possible_\n",
    "    result = []\n",
    "    field.children = result\n",
    "    return result\n",
    "\n",
    "\n",
    "def update_minimax(field):    \n",
    "    #TODO write fuction that updates minimax weights for all nodes RECURSIVELY\n",
    "    field.minimax_score = 0\n",
    "    return field.minimax_score"
   ]
  },
  {
   "cell_type": "code",
   "execution_count": 3,
   "metadata": {},
   "outputs": [
    {
     "name": "stdout",
     "output_type": "stream",
     "text": [
      "...\n",
      "...\n",
      "...\n",
      "Last field\n",
      "...\n",
      "...\n",
      "...\n",
      "Total nodes in a tree: 1\n",
      "Root score:  0\n",
      "Last node score:  0\n"
     ]
    }
   ],
   "source": [
    "# empty field\n",
    "state0 = [['.', '.', '.']] * 3\n",
    "\n",
    "initial = Field(state0)\n",
    "initial.print_me()\n",
    "\n",
    "# generate a tree\n",
    "states = []\n",
    "states.append(initial)\n",
    "i = 0\n",
    "while i < len(states):\n",
    "    states += generate_children(states[i])\n",
    "    i += 1\n",
    "\n",
    "print(\"Last field\")\n",
    "states[-1].print_me()\n",
    "\n",
    "print('Total nodes in a tree:', len(states))\n",
    "\n",
    "update_minimax(initial)\n",
    "print(\"Root score: \", initial.minimax_score)\n",
    "print(\"Last node score: \", states[-1].minimax_score)"
   ]
  }
 ],
 "metadata": {
  "kernelspec": {
   "display_name": "Python 3",
   "language": "python",
   "name": "python3"
  },
  "language_info": {
   "codemirror_mode": {
    "name": "ipython",
    "version": 3
   },
   "file_extension": ".py",
   "mimetype": "text/x-python",
   "name": "python",
   "nbconvert_exporter": "python",
   "pygments_lexer": "ipython3",
   "version": "3.6.3"
  }
 },
 "nbformat": 4,
 "nbformat_minor": 2
}
