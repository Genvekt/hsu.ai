{
 "cells": [
  {
   "cell_type": "code",
   "execution_count": 45,
   "metadata": {},
   "outputs": [],
   "source": [
    "import nltk\n",
    "from nltk import tokenize\n",
    "from nltk.stem.snowball import SnowballStemmer\n",
    "\n",
    "def load_database(textfile):\n",
    "    stemmer = SnowballStemmer(\"english\")\n",
    "    sentences = []\n",
    "    words = []\n",
    "    lexemes = []\n",
    "    with open(textfile) as f:\n",
    "        text = f.read().lower()\n",
    "        sentences = tokenize.sent_tokenize(text)\n",
    "        for sentence in sentences:\n",
    "            if not sentence:\n",
    "                continue\n",
    "            s_words = [word for word\n",
    "                        in tokenize.word_tokenize(sentence)\n",
    "                        if word not in (',', '.', ':', '-', ';', '?', '!', '\"', \"``\", \"`\", \"''\")\n",
    "                    ]\n",
    "            s_lexemes = [stemmer.stem(word) for word in s_words]\n",
    "            words.append(s_words)\n",
    "            lexemes.append(s_lexemes)\n",
    "    return sentences, words, lexemes"
   ]
  },
  {
   "cell_type": "code",
   "execution_count": 46,
   "metadata": {},
   "outputs": [],
   "source": [
    "sentences, words, lexemes = load_database(r\"C:\\Users\\Tamino\\Documents\\hsu.ai\\code\\datasets\\nlp/the old man and the sea.txt\")"
   ]
  },
  {
   "cell_type": "code",
   "execution_count": 47,
   "metadata": {},
   "outputs": [],
   "source": [
    "# TODO: write the code that will find ALL sentences which contain all words of query\n",
    "def exact_match(query):\n",
    "    query = query.lower()\n",
    "    result = []\n",
    "    stemmer = SnowballStemmer(\"english\")\n",
    "    stemmed_query = [stemmer.stem(word) for word in query.split()]\n",
    "    for inp in lexemes:\n",
    "        if set(stemmed_query).issubset(set(inp)):\n",
    "            result.append(\" \".join(inp))\n",
    "    return result\n",
    "    # query -> [lexemes] -> [stems]\n",
    "    # go through all bags of words\n",
    "    # if bag contains ALL query stems - append to result\n",
    "\n",
    "\n",
    "# TODO: write the code that will find TOP sentences with THE BEST matches with query\n",
    "def ranked_match(query, top=5):\n",
    "    ranked_result = []\n",
    "    # TODO\n",
    "    # query -> [lexemes] -> [stems]\n",
    "    # go through all bags of words\n",
    "    # if bag contains ALL query stems - append len(intersection) to result_result\n",
    "    \n",
    "    ranked_result.sort(reverse=True)\n",
    "    return [item[1] for item in ranked_result[-top:]]"
   ]
  },
  {
   "cell_type": "code",
   "execution_count": 48,
   "metadata": {},
   "outputs": [
    {
     "name": "stdout",
     "output_type": "stream",
     "text": [
      "['it was the yellow gulf weed that had made so much phosphoresc in the night', 'so he hook a patch of yellow gulf weed with the gaff as they pass and shook it so that the small shrimp that were in it fell onto the plank of the skiff']\n",
      "[]\n"
     ]
    }
   ],
   "source": [
    "print(exact_match(\"yellow Gulf weed\"))\n",
    "print(ranked_match(\"yellow Gulf weed\"))"
   ]
  },
  {
   "cell_type": "code",
   "execution_count": null,
   "metadata": {},
   "outputs": [],
   "source": []
  }
 ],
 "metadata": {
  "kernelspec": {
   "display_name": "Python 3",
   "language": "python",
   "name": "python3"
  },
  "language_info": {
   "codemirror_mode": {
    "name": "ipython",
    "version": 3
   },
   "file_extension": ".py",
   "mimetype": "text/x-python",
   "name": "python",
   "nbconvert_exporter": "python",
   "pygments_lexer": "ipython3",
   "version": "3.7.1"
  }
 },
 "nbformat": 4,
 "nbformat_minor": 2
}
