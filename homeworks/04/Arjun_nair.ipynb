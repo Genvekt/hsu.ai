{
 "cells": [
  {
   "cell_type": "code",
   "execution_count": 5,
   "metadata": {},
   "outputs": [],
   "source": [
    "from collections import OrderedDict\n",
    "from nltk.probability import FreqDistfile =  open('the_old_man_and_the_sea.txt', 'r')\n",
    "text = file.read()\n",
    "temp = [x.lower() for x in text.split()]"
   ]
  },
  {
   "cell_type": "code",
   "execution_count": 16,
   "metadata": {},
   "outputs": [],
   "source": [
    "def frequency(temp):\n",
    "    wordFrequency = FreqDist(word.lower() for word in temp)\n",
    "    return wordFrequency\n",
    "def bigramFrequency(temp):\n",
    "    bigrams = nltk.bigrams(temp)\n",
    "    s = FreqDist(x for x in bigrams)\n",
    "    return s"
   ]
  },
  {
   "cell_type": "code",
   "execution_count": 72,
   "metadata": {},
   "outputs": [
    {
     "data": {
      "text/plain": [
       "[('the', 2308),\n",
       " ('and', 1240),\n",
       " ('he', 1128),\n",
       " ('of', 537),\n",
       " ('to', 450),\n",
       " ('his', 445),\n",
       " ('was', 429),\n",
       " ('it', 400),\n",
       " ('a', 394),\n",
       " ('i', 381),\n",
       " ('in', 349),\n",
       " ('that', 283),\n",
       " ('old', 246),\n",
       " ('man', 214),\n",
       " ('but', 211),\n",
       " ('had', 201),\n",
       " ('with', 201),\n",
       " ('not', 198),\n",
       " ('as', 196),\n",
       " ('fish', 194)]"
      ]
     },
     "execution_count": 72,
     "metadata": {},
     "output_type": "execute_result"
    }
   ],
   "source": [
    "frequency_dict = get_word_frequency(temp).most_common()[:20]\n",
    "frequency_dict"
   ]
  },
  {
   "cell_type": "code",
   "execution_count": 73,
   "metadata": {},
   "outputs": [
    {
     "data": {
      "text/plain": [
       "[(('of', 'the'), 248),\n",
       " (('the', 'old'), 205),\n",
       " (('in', 'the'), 196),\n",
       " (('old', 'man'), 186),\n",
       " (('and', 'the'), 170),\n",
       " (('and', 'he'), 150),\n",
       " (('he', 'thought.'), 119),\n",
       " (('the', 'fish'), 106),\n",
       " (('he', 'was'), 103),\n",
       " (('on', 'the'), 100),\n",
       " (('the', 'boy'), 85),\n",
       " (('it', 'was'), 81),\n",
       " (('he', 'had'), 79),\n",
       " (('the', 'line'), 77),\n",
       " (('to', 'the'), 60),\n",
       " (('with', 'the'), 60),\n",
       " (('he', 'could'), 60),\n",
       " (('he', 'said.'), 57),\n",
       " (('then', 'he'), 53),\n",
       " (('of', 'his'), 51)]"
      ]
     },
     "execution_count": 73,
     "metadata": {},
     "output_type": "execute_result"
    }
   ],
   "source": [
    "bigram_freqquency = bigramFrequency(temp).most_common()[:20] \n",
    "bigram_frequency"
   ]
  }
 ],
 "metadata": {
  "kernelspec": {
   "display_name": "Python 3",
   "language": "python",
   "name": "python3"
  },
  "language_info": {
   "codemirror_mode": {
    "name": "ipython",
    "version": 3
   },
   "file_extension": ".py",
   "mimetype": "text/x-python",
   "name": "python",
   "nbconvert_exporter": "python",
   "pygments_lexer": "ipython3",
   "version": "3.7.1"
  }
 },
 "nbformat": 4,
 "nbformat_minor": 2
}
