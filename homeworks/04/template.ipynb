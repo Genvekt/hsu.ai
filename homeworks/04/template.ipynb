{
 "cells": [
  {
   "cell_type": "code",
   "execution_count": 1,
   "metadata": {
    "collapsed": true
   },
   "outputs": [],
   "source": [
    "import nltk\n",
    "import re\n",
    "\n",
    "sentences = []\n",
    "lines = open('../../code/datasets/nlp/the old man and the sea.txt').readlines()\n",
    "\n",
    "tokenized_sentences = []\n",
    "for line in lines:\n",
    "    line = line.strip().strip('\"').strip('`').strip(\"'\")\n",
    "    for sentence in re.split('\\.|\\?|!', line):\n",
    "        tokenized_sentences.append(nltk.word_tokenize(sentence))"
   ]
  },
  {
   "cell_type": "code",
   "execution_count": 2,
   "metadata": {},
   "outputs": [
    {
     "name": "stdout",
     "output_type": "stream",
     "text": [
      "['I', \"'ll\", 'be', 'back', 'when', 'I', 'have', 'the', 'sardines']\n"
     ]
    },
    {
     "data": {
      "text/plain": [
       "[('I', 'PRP'),\n",
       " (\"'ll\", 'MD'),\n",
       " ('be', 'VB'),\n",
       " ('back', 'RB'),\n",
       " ('when', 'WRB'),\n",
       " ('I', 'PRP'),\n",
       " ('have', 'VBP'),\n",
       " ('the', 'DT'),\n",
       " ('sardines', 'NNS')]"
      ]
     },
     "execution_count": 2,
     "metadata": {},
     "output_type": "execute_result"
    }
   ],
   "source": [
    "# sample sentences\n",
    "print(tokenized_sentences[201])\n",
    "nltk.pos_tag(tokenized_sentences[201])"
   ]
  },
  {
   "cell_type": "code",
   "execution_count": 3,
   "metadata": {},
   "outputs": [
    {
     "name": "stdout",
     "output_type": "stream",
     "text": [
      "[('His', 'hope'), ('hope', 'and'), ('and', 'his'), ('his', 'confidence'), ('confidence', 'had'), ('had', 'never'), ('never', 'gone')]\n"
     ]
    }
   ],
   "source": [
    "def get_bigrams(sentence):\n",
    "    # TODO write your code for this method\n",
    "    return ...\n",
    "\n",
    "# sample\n",
    "print(get_bigrams(tokenized_sentences[101]))"
   ]
  },
  {
   "cell_type": "code",
   "execution_count": 6,
   "metadata": {
    "collapsed": true
   },
   "outputs": [],
   "source": [
    "bigrammed_sentences = [get_bigrams(sentence) for sentence in tokenized_sentences]"
   ]
  },
  {
   "cell_type": "code",
   "execution_count": 7,
   "metadata": {
    "collapsed": true
   },
   "outputs": [],
   "source": [
    "# TODO \n",
    "# write your code to extract the most popular words and thier parts of speech\n",
    "# write your code to extract the most popular STEMMED bigrams"
   ]
  }
 ],
 "metadata": {
  "kernelspec": {
   "display_name": "Python 3",
   "language": "python",
   "name": "python3"
  },
  "language_info": {
   "codemirror_mode": {
    "name": "ipython",
    "version": 3
   },
   "file_extension": ".py",
   "mimetype": "text/x-python",
   "name": "python",
   "nbconvert_exporter": "python",
   "pygments_lexer": "ipython3",
   "version": "3.6.3"
  }
 },
 "nbformat": 4,
 "nbformat_minor": 2
}
