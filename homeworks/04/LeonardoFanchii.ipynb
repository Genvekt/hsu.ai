{
 "cells": [
  {
   "cell_type": "code",
   "execution_count": 36,
   "metadata": {},
   "outputs": [],
   "source": [
    "import nltk\n",
    "import re\n",
    "from collections import OrderedDict\n",
    "from nltk.probability import FreqDist\n",
    "\n",
    "file =  open('the_old_man_and_the_sea.txt', 'r')\n",
    "text = file.read()\n",
    "tokens =  text.split()"
   ]
  },
  {
   "cell_type": "code",
   "execution_count": 37,
   "metadata": {},
   "outputs": [],
   "source": [
    "tokens =[x.lower() for x in tokens]\n",
    "word_freq = FreqDist(word.lower() for word in tokens)"
   ]
  },
  {
   "cell_type": "code",
   "execution_count": 38,
   "metadata": {},
   "outputs": [],
   "source": [
    "bgram = nltk.bigrams(tokens)\n",
    "bigram_freq = FreqDist(gram for gram in bgram)"
   ]
  },
  {
   "cell_type": "code",
   "execution_count": 39,
   "metadata": {},
   "outputs": [],
   "source": [
    "bigrammed_sentences = [get_bigrams(sentence) for sentence in tokenized_sentences]"
   ]
  },
  {
   "cell_type": "code",
   "execution_count": 40,
   "metadata": {},
   "outputs": [
    {
     "data": {
      "text/plain": [
       "[(('of', 'the'), 248),\n",
       " (('the', 'old'), 205),\n",
       " (('in', 'the'), 196),\n",
       " (('old', 'man'), 186),\n",
       " (('and', 'the'), 170),\n",
       " (('and', 'he'), 150),\n",
       " (('he', 'thought.'), 119),\n",
       " (('the', 'fish'), 106),\n",
       " (('he', 'was'), 103),\n",
       " (('on', 'the'), 100),\n",
       " (('the', 'boy'), 85),\n",
       " (('it', 'was'), 81),\n",
       " (('he', 'had'), 79),\n",
       " (('the', 'line'), 77),\n",
       " (('to', 'the'), 60),\n",
       " (('with', 'the'), 60),\n",
       " (('he', 'could'), 60),\n",
       " (('he', 'said.'), 57),\n",
       " (('then', 'he'), 53),\n",
       " (('of', 'his'), 51)]"
      ]
     },
     "execution_count": 40,
     "metadata": {},
     "output_type": "execute_result"
    }
   ],
   "source": [
    "word_freq.most_common()[:20]\n",
    "bigram_freq.most_common()[:20]"
   ]
  },
  {
   "cell_type": "code",
   "execution_count": null,
   "metadata": {},
   "outputs": [],
   "source": []
  }
 ],
 "metadata": {
  "kernelspec": {
   "display_name": "Python 3",
   "language": "python",
   "name": "python3"
  },
  "language_info": {
   "codemirror_mode": {
    "name": "ipython",
    "version": 3
   },
   "file_extension": ".py",
   "mimetype": "text/x-python",
   "name": "python",
   "nbconvert_exporter": "python",
   "pygments_lexer": "ipython3",
   "version": "3.6.7"
  }
 },
 "nbformat": 4,
 "nbformat_minor": 2
}
