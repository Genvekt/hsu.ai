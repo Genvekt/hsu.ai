{
 "cells": [
  {
   "cell_type": "code",
   "execution_count": 107,
   "metadata": {},
   "outputs": [],
   "source": [
    "from nltk import bigrams\n",
    "from nltk.probability import FreqDist\n",
    "\n",
    "file = open('../../code/datasets/nlp/the old man and the sea.txt', 'r')\n",
    "\n",
    "data = file.read()\n",
    "tokens = data.split()\n",
    "\n",
    "tokens = [i.lower() for i in tokens]\n",
    "frequency = FreqDist(tokens)\n",
    "bigrams = nltk.bigrams(tokens)\n",
    "bigramFreq = FreqDist(gram for gram in bigrams)"
   ]
  },
  {
   "cell_type": "code",
   "execution_count": 108,
   "metadata": {},
   "outputs": [
    {
     "data": {
      "text/plain": [
       "[('the', 2308),\n",
       " ('and', 1240),\n",
       " ('he', 1128),\n",
       " ('of', 537),\n",
       " ('to', 450),\n",
       " ('his', 445),\n",
       " ('was', 429),\n",
       " ('it', 400),\n",
       " ('a', 394),\n",
       " ('i', 381),\n",
       " ('in', 349),\n",
       " ('that', 283),\n",
       " ('old', 246),\n",
       " ('man', 214),\n",
       " ('but', 211),\n",
       " ('had', 201),\n",
       " ('with', 201),\n",
       " ('not', 198),\n",
       " ('as', 196),\n",
       " ('fish', 194)]"
      ]
     },
     "execution_count": 108,
     "metadata": {},
     "output_type": "execute_result"
    }
   ],
   "source": [
    "frequency.most_common()[:20]"
   ]
  },
  {
   "cell_type": "code",
   "execution_count": 109,
   "metadata": {},
   "outputs": [
    {
     "data": {
      "text/plain": [
       "[(('of', 'the'), 248),\n",
       " (('the', 'old'), 205),\n",
       " (('in', 'the'), 196),\n",
       " (('old', 'man'), 186),\n",
       " (('and', 'the'), 170),\n",
       " (('and', 'he'), 150),\n",
       " (('he', 'thought.'), 119),\n",
       " (('the', 'fish'), 106),\n",
       " (('he', 'was'), 103),\n",
       " (('on', 'the'), 100),\n",
       " (('the', 'boy'), 85),\n",
       " (('it', 'was'), 81),\n",
       " (('he', 'had'), 79),\n",
       " (('the', 'line'), 77),\n",
       " (('to', 'the'), 60),\n",
       " (('with', 'the'), 60),\n",
       " (('he', 'could'), 60),\n",
       " (('he', 'said.'), 57),\n",
       " (('then', 'he'), 53),\n",
       " (('of', 'his'), 51)]"
      ]
     },
     "execution_count": 109,
     "metadata": {},
     "output_type": "execute_result"
    }
   ],
   "source": [
    "bigramFreq.most_common()[:20]"
   ]
  },
  {
   "cell_type": "code",
   "execution_count": null,
   "metadata": {},
   "outputs": [],
   "source": []
  },
  {
   "cell_type": "raw",
   "metadata": {},
   "source": []
  }
 ],
 "metadata": {
  "kernelspec": {
   "display_name": "Python 3",
   "language": "python",
   "name": "python3"
  },
  "language_info": {
   "codemirror_mode": {
    "name": "ipython",
    "version": 3
   },
   "file_extension": ".py",
   "mimetype": "text/x-python",
   "name": "python",
   "nbconvert_exporter": "python",
   "pygments_lexer": "ipython3",
   "version": "3.6.5"
  }
 },
 "nbformat": 4,
 "nbformat_minor": 2
}
