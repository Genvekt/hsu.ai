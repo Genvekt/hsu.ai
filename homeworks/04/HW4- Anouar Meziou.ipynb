{
 "cells": [
  {
   "cell_type": "code",
   "execution_count": 13,
   "metadata": {},
   "outputs": [],
   "source": [
    "import nltk\n",
    "from nltk.util import ngrams\n",
    "from collections import Counter\n",
    "import re\n",
    "import itertools\n",
    "\n",
    "sentences = []\n",
    "\n",
    "lines = open(r'C:\\Users\\Anouar\\Desktop\\the old man and the sea.txt').readlines()\n",
    "\n",
    "\n",
    "token = []\n",
    "for line in lines:\n",
    "    line = line.strip().strip('\"').strip('`').strip(\"'\")\n",
    "    for sentence in re.split('\\.|\\?|!', line):\n",
    "        token.append(nltk.word_tokenize(sentence))\n",
    "\n"
   ]
  },
  {
   "cell_type": "code",
   "execution_count": 35,
   "metadata": {},
   "outputs": [
    {
     "name": "stderr",
     "output_type": "stream",
     "text": [
      "[nltk_data] Downloading package averaged_perceptron_tagger to\n",
      "[nltk_data]     C:\\Users\\Anouar\\AppData\\Roaming\\nltk_data...\n",
      "[nltk_data]   Unzipping taggers\\averaged_perceptron_tagger.zip.\n"
     ]
    },
    {
     "name": "stdout",
     "output_type": "stream",
     "text": [
      "['I', \"'ll\", 'be', 'back', 'when', 'I', 'have', 'the', 'sardines']\n"
     ]
    },
    {
     "data": {
      "text/plain": [
       "[('I', 'PRP'),\n",
       " (\"'ll\", 'MD'),\n",
       " ('be', 'VB'),\n",
       " ('back', 'RB'),\n",
       " ('when', 'WRB'),\n",
       " ('I', 'PRP'),\n",
       " ('have', 'VBP'),\n",
       " ('the', 'DT'),\n",
       " ('sardines', 'NNS')]"
      ]
     },
     "execution_count": 35,
     "metadata": {},
     "output_type": "execute_result"
    }
   ],
   "source": [
    "import nltk\n",
    "nltk.download('averaged_perceptron_tagger')\n",
    "# sample sentences\n",
    "print(token[201])\n",
    "nltk.pos_tag(token[201])"
   ]
  },
  {
   "cell_type": "code",
   "execution_count": 30,
   "metadata": {},
   "outputs": [
    {
     "name": "stdout",
     "output_type": "stream",
     "text": [
      "[('I', \"'ll\"), (\"'ll\", 'be'), ('be', 'back'), ('back', 'when'), ('when', 'I'), ('I', 'have'), ('have', 'the'), ('the', 'sardines')]\n"
     ]
    }
   ],
   "source": [
    "def get_bigrams(sentence):\n",
    "    # TODO write your code for this method\n",
    "    bigram = list(ngrams(sentence, 2))\n",
    "    return bigram\n",
    "\n",
    "# sample\n",
    "print(get_bigrams(token[201]))"
   ]
  },
  {
   "cell_type": "code",
   "execution_count": 31,
   "metadata": {},
   "outputs": [],
   "source": [
    "bigram_sentences = [get_bigrams(sentence) for sentence in token]\n",
    "bigram_sentences = [x for x in bigram_sentences if x != []]\n",
    "bigram_sentences = list(itertools.chain(*bigram_sentences))\n",
    "bigram_sentences = [(x.lower(), y.lower()) for x,y in bigram_sentences]"
   ]
  },
  {
   "cell_type": "code",
   "execution_count": 36,
   "metadata": {},
   "outputs": [
    {
     "name": "stderr",
     "output_type": "stream",
     "text": [
      "[nltk_data] Downloading package averaged_perceptron_tagger to\n",
      "[nltk_data]     C:\\Users\\Anouar\\AppData\\Roaming\\nltk_data...\n",
      "[nltk_data]   Package averaged_perceptron_tagger is already up-to-\n",
      "[nltk_data]       date!\n"
     ]
    },
    {
     "name": "stdout",
     "output_type": "stream",
     "text": [
      "[(('the', 'DT'), 2316), (('and', 'CC'), 1259), (('he', 'PRP'), 1166), ((',', ','), 784), (('of', 'IN'), 540), (('it', 'PRP'), 494), (('to', 'TO'), 454), (('his', 'PRP$'), 446), (('was', 'VBD'), 435), (('a', 'DT'), 397), (('in', 'IN'), 359), (('man', 'NN'), 264), (('old', 'JJ'), 248), (('but', 'CC'), 233), (('him', 'PRP'), 230), (('i', 'NN'), 220), (('not', 'RB'), 217), (('fish', 'NN'), 209), (('with', 'IN'), 205), (('on', 'IN'), 203)]\n"
     ]
    }
   ],
   "source": [
    "nltk.download('averaged_perceptron_tagger')\n",
    "# TODO \n",
    "# write your code to extract the most popular words and thier parts of speech\n",
    "list_of_words = list(itertools.chain(*token))\n",
    "list_of_words = [x.lower() for x in list_of_words]\n",
    "list_of_words = nltk.pos_tag(list_of_words)\n",
    "result_words = Counter(list_of_words).most_common(20)\n",
    "print(result_words)"
   ]
  },
  {
   "cell_type": "code",
   "execution_count": 33,
   "metadata": {},
   "outputs": [
    {
     "name": "stdout",
     "output_type": "stream",
     "text": [
      "[(('of', 'the'), 248), (('old', 'man'), 229), (('the', 'old'), 205), (('in', 'the'), 197), ((',', \"''\"), 179), (('and', 'the'), 172), ((',', 'he'), 161), (('and', 'he'), 151), (('he', 'thought'), 145), (('the', 'fish'), 139), (('he', 'was'), 107), (('on', 'the'), 100), (('the', 'boy'), 96), (('he', 'said'), 96), ((\"''\", 'the'), 89), (('it', 'was'), 88), ((\"''\", 'he'), 87), (('the', 'line'), 83), (('he', 'had'), 80), (('the', 'water'), 73)]\n"
     ]
    }
   ],
   "source": [
    "# write your code to extract the most popular STEMMED bigrams\n",
    "result_bigram = Counter(bigram_sentences).most_common(20)\n",
    "print(result_bigram)"
   ]
  },
  {
   "cell_type": "code",
   "execution_count": null,
   "metadata": {},
   "outputs": [],
   "source": []
  }
 ],
 "metadata": {
  "kernelspec": {
   "display_name": "Python 3",
   "language": "python",
   "name": "python3"
  },
  "language_info": {
   "codemirror_mode": {
    "name": "ipython",
    "version": 3
   },
   "file_extension": ".py",
   "mimetype": "text/x-python",
   "name": "python",
   "nbconvert_exporter": "python",
   "pygments_lexer": "ipython3",
   "version": "3.7.1"
  }
 },
 "nbformat": 4,
 "nbformat_minor": 2
}
