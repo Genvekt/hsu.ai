{
 "cells": [
  {
   "cell_type": "code",
   "execution_count": 1,
   "metadata": {
    "collapsed": true
   },
   "outputs": [],
   "source": [
    "import nltk\n",
    "import re\n",
    "from collections import Counter\n",
    "\n",
    "\n",
    "sentences = []\n",
    "lines = open('../../code/datasets/nlp/the old man and the sea.txt').readlines()\n",
    "\n",
    "tokenized_sentences = []\n",
    "for line in lines:\n",
    "    line = line.strip().strip('\"').strip('`').strip(\"'\")\n",
    "    for sentence in re.split('\\.|\\?|!', line):\n",
    "        tokenized_sentences.append(nltk.word_tokenize(sentence))"
   ]
  },
  {
   "cell_type": "code",
   "execution_count": 2,
   "metadata": {},
   "outputs": [
    {
     "name": "stdout",
     "output_type": "stream",
     "text": [
      "['I', \"'ll\", 'be', 'back', 'when', 'I', 'have', 'the', 'sardines']\n"
     ]
    },
    {
     "data": {
      "text/plain": [
       "[('I', 'PRP'),\n",
       " (\"'ll\", 'MD'),\n",
       " ('be', 'VB'),\n",
       " ('back', 'RB'),\n",
       " ('when', 'WRB'),\n",
       " ('I', 'PRP'),\n",
       " ('have', 'VBP'),\n",
       " ('the', 'DT'),\n",
       " ('sardines', 'NNS')]"
      ]
     },
     "execution_count": 2,
     "metadata": {},
     "output_type": "execute_result"
    }
   ],
   "source": [
    "# sample sentences\n",
    "print(tokenized_sentences[201])\n",
    "nltk.pos_tag(tokenized_sentences[201])"
   ]
  },
  {
   "cell_type": "code",
   "execution_count": 3,
   "metadata": {},
   "outputs": [
    {
     "name": "stdout",
     "output_type": "stream",
     "text": [
      "['His', 'hope', 'and', 'his', 'confidence', 'had', 'never', 'gone']\n"
     ]
    },
    {
     "data": {
      "text/plain": [
       "[('his', 'hope'),\n",
       " ('hope', 'and'),\n",
       " ('and', 'his'),\n",
       " ('his', 'confidence'),\n",
       " ('had', 'never'),\n",
       " ('never', 'gone')]"
      ]
     },
     "execution_count": 3,
     "metadata": {},
     "output_type": "execute_result"
    }
   ],
   "source": [
    "def get_bigrams(sentence):\n",
    "    bigrams_list = []\n",
    "    clean_list = []\n",
    "    delimiters = [\",\", \".\", \"!\", \"?\", \"/\", \"&\", \"-\", \":\", \";\", \"@\", \"'\", \"...\", \"``\", \"`\", \"'\", \"''\"]\n",
    "\n",
    "    \n",
    "    for x in range(len(sentence)-1):\n",
    "        bigrams_list.append(tuple((sentence[x].lower(), sentence[x+1].lower()))) \n",
    "        \n",
    "    for x in bigrams_list:\n",
    "        if (x[0] in delimiters) or (x[1] in delimiters): \n",
    "            bigrams_list.remove(x)\n",
    "        else:\n",
    "            clean_list.append(x)\n",
    "    return clean_list\n",
    "\n",
    "a = ['His', 'hope', 'and', 'his', 'confidence',  ',', 'had', 'never', 'gone', ',']\n",
    "\n",
    "\n",
    "print(tokenized_sentences[101])\n",
    "# sample\n",
    "(get_bigrams(a))\n",
    "\n"
   ]
  },
  {
   "cell_type": "code",
   "execution_count": 4,
   "metadata": {
    "collapsed": true
   },
   "outputs": [],
   "source": [
    "bigrammed_sentences = [get_bigrams(sentence) for sentence in tokenized_sentences]"
   ]
  },
  {
   "cell_type": "code",
   "execution_count": 5,
   "metadata": {
    "collapsed": true
   },
   "outputs": [],
   "source": [
    "def get_top_bigram(bs):     \n",
    "    pre_list = []\n",
    "    whole_list = []\n",
    "\n",
    "    for x in bs:\n",
    "        if len(x)>0:\n",
    "            counts = Counter(x)\n",
    "            c = counts.most_common(100)\n",
    "        for x in c:\n",
    "            whole_list.append(x[0])\n",
    "\n",
    "    counter = Counter(whole_list)\n",
    "    top_twenty_bigrams = counter.most_common(20)\n",
    "    return top_twenty_bigrams\n",
    "\n",
    "\n"
   ]
  },
  {
   "cell_type": "code",
   "execution_count": 6,
   "metadata": {
    "collapsed": true
   },
   "outputs": [],
   "source": [
    "def only_words(tokenized):\n",
    "    non_empty_list = []\n",
    "    clean_list = []\n",
    "    delimiters = [\",\", \".\", \"!\", \"?\", \"/\", \"&\", \"-\", \":\", \";\", \"@\", \"'\", \"...\", \"``\", \"`\", \"'\", \"''\"]\n",
    "    \n",
    "    for x in tokenized:\n",
    "        if x:\n",
    "            non_empty_list.append(x)\n",
    "    \n",
    "    for x in non_empty_list:\n",
    "        for k in x:\n",
    "            clean_list.append(k)\n",
    "    return clean_list\n",
    "#         if x in delimiters:\n",
    "#             tokenized.remove(x)\n",
    "#         else:\n",
    "#             clean_list.append(x)\n",
    "#     return clean_list\n",
    "words = only_words(tokenized_sentences)\n"
   ]
  },
  {
   "cell_type": "code",
   "execution_count": 7,
   "metadata": {
    "collapsed": true
   },
   "outputs": [],
   "source": [
    "def get_top_words(w):\n",
    "    counter = Counter(w)\n",
    "    top_twenty_words = counter.most_common(20)\n",
    "    return top_twenty_words\n",
    "    "
   ]
  },
  {
   "cell_type": "code",
   "execution_count": 8,
   "metadata": {
    "collapsed": true
   },
   "outputs": [],
   "source": [
    "top_words = get_top_words(words)\n",
    "top_bigrams = get_top_bigram(bigrammed_sentences)"
   ]
  },
  {
   "cell_type": "code",
   "execution_count": 9,
   "metadata": {},
   "outputs": [
    {
     "name": "stdout",
     "output_type": "stream",
     "text": [
      "TOP WORDS [('the', 2119), ('and', 1233), ('he', 868), (',', 784), ('of', 538), ('I', 508), ('to', 453), ('was', 435), ('his', 430), ('it', 398), ('a', 391), ('in', 347), ('He', 298), ('fish', 280), ('that', 278), ('man', 262), ('old', 247), ('him', 230), ('not', 214), ('had', 203)]\n"
     ]
    }
   ],
   "source": [
    "print(\"TOP WORDS\", top_words)\n"
   ]
  },
  {
   "cell_type": "code",
   "execution_count": 10,
   "metadata": {},
   "outputs": [
    {
     "name": "stdout",
     "output_type": "stream",
     "text": [
      "TOP BIGRAMS [(('old', 'man'), 284), (('of', 'the'), 259), (('in', 'the'), 232), (('and', 'the'), 202), (('the', 'old'), 193), (('and', 'he'), 189), (('the', 'fish'), 172), (('he', 'thought'), 160), (('on', 'the'), 136), (('he', 'was'), 134), (('it', 'was'), 110), (('the', 'line'), 103), (('he', 'had'), 101), (('the', 'water'), 91), (('with', 'the'), 83), (('he', 'could'), 80), (('to', 'the'), 79), (('then', 'he'), 73), (('the', 'boy'), 69), (('of', 'his'), 67)]\n"
     ]
    }
   ],
   "source": [
    "print(\"TOP BIGRAMS\", top_bigrams)"
   ]
  },
  {
   "cell_type": "code",
   "execution_count": null,
   "metadata": {
    "collapsed": true
   },
   "outputs": [],
   "source": []
  }
 ],
 "metadata": {
  "kernelspec": {
   "display_name": "Python 3",
   "language": "python",
   "name": "python3"
  },
  "language_info": {
   "codemirror_mode": {
    "name": "ipython",
    "version": 3
   },
   "file_extension": ".py",
   "mimetype": "text/x-python",
   "name": "python",
   "nbconvert_exporter": "python",
   "pygments_lexer": "ipython3",
   "version": "3.6.8"
  }
 },
 "nbformat": 4,
 "nbformat_minor": 2
}
