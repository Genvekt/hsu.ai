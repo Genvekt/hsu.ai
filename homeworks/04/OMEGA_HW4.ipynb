{
 "cells": [
  {
   "cell_type": "code",
   "execution_count": 2,
   "metadata": {},
   "outputs": [],
   "source": [
    "import nltk\n",
    "from nltk.util import ngrams\n",
    "from collections import Counter\n",
    "import re\n",
    "import itertools\n",
    "\n",
    "sentences = []\n",
    "\n",
    "lines = open('C:/Users/diego/PycharmProjects/AI/week_1/Homework/the old man and the sea.txt').readlines()\n",
    "\n",
    "\n",
    "tokenized_sentences = []\n",
    "for line in lines:\n",
    "    line = line.strip().strip('\"').strip('`').strip(\"'\")\n",
    "    for sentence in re.split('\\.|\\?|!', line):\n",
    "        tokenized_sentences.append(nltk.word_tokenize(sentence))\n",
    "\n"
   ]
  },
  {
   "cell_type": "code",
   "execution_count": 3,
   "metadata": {},
   "outputs": [
    {
     "name": "stdout",
     "output_type": "stream",
     "text": [
      "['I', \"'ll\", 'be', 'back', 'when', 'I', 'have', 'the', 'sardines']\n"
     ]
    },
    {
     "data": {
      "text/plain": [
       "[('I', 'PRP'),\n",
       " (\"'ll\", 'MD'),\n",
       " ('be', 'VB'),\n",
       " ('back', 'RB'),\n",
       " ('when', 'WRB'),\n",
       " ('I', 'PRP'),\n",
       " ('have', 'VBP'),\n",
       " ('the', 'DT'),\n",
       " ('sardines', 'NNS')]"
      ]
     },
     "execution_count": 3,
     "metadata": {},
     "output_type": "execute_result"
    }
   ],
   "source": [
    "# sample sentences\n",
    "print(tokenized_sentences[201])\n",
    "nltk.pos_tag(tokenized_sentences[201])"
   ]
  },
  {
   "cell_type": "code",
   "execution_count": 4,
   "metadata": {},
   "outputs": [
    {
     "name": "stdout",
     "output_type": "stream",
     "text": [
      "[('I', \"'ll\"), (\"'ll\", 'be'), ('be', 'back'), ('back', 'when'), ('when', 'I'), ('I', 'have'), ('have', 'the'), ('the', 'sardines')]\n"
     ]
    }
   ],
   "source": [
    "def get_bigrams(sentence):\n",
    "    # TODO write your code for this method\n",
    "    bigram = list(ngrams(sentence, 2))\n",
    "    return bigram\n",
    "\n",
    "# sample\n",
    "print(get_bigrams(tokenized_sentences[201]))"
   ]
  },
  {
   "cell_type": "code",
   "execution_count": 5,
   "metadata": {},
   "outputs": [],
   "source": [
    "bigrammed_sentences = [get_bigrams(sentence) for sentence in tokenized_sentences]\n",
    "bigrammed_sentences = [x for x in bigrammed_sentences if x != []]\n",
    "bigrammed_sentences = list(itertools.chain(*bigrammed_sentences))\n",
    "bigrammed_sentences = [(x.lower(), y.lower()) for x,y in bigrammed_sentences]"
   ]
  },
  {
   "cell_type": "code",
   "execution_count": 9,
   "metadata": {},
   "outputs": [
    {
     "name": "stdout",
     "output_type": "stream",
     "text": [
      "[(('the', 'DT'), 2316), (('and', 'CC'), 1259), (('he', 'PRP'), 1166), ((',', ','), 784), (('of', 'IN'), 540), (('it', 'PRP'), 494), (('to', 'TO'), 454), (('his', 'PRP$'), 446), (('was', 'VBD'), 435), (('a', 'DT'), 397), (('in', 'IN'), 359), (('man', 'NN'), 264), (('old', 'JJ'), 248), (('but', 'CC'), 233), (('him', 'PRP'), 230), (('i', 'NN'), 220), (('not', 'RB'), 217), (('fish', 'NN'), 209), (('with', 'IN'), 205), (('on', 'IN'), 203)]\n"
     ]
    }
   ],
   "source": [
    "# TODO \n",
    "# write your code to extract the most popular words and thier parts of speech\n",
    "list_of_words = list(itertools.chain(*tokenized_sentences))\n",
    "list_of_words = [x.lower() for x in list_of_words]\n",
    "list_of_words = nltk.pos_tag(list_of_words)\n",
    "result_words = Counter(list_of_words).most_common(20)\n",
    "print(result_words)"
   ]
  },
  {
   "cell_type": "code",
   "execution_count": 8,
   "metadata": {},
   "outputs": [
    {
     "name": "stdout",
     "output_type": "stream",
     "text": [
      "[(('of', 'the'), 248), (('old', 'man'), 229), (('the', 'old'), 205), (('in', 'the'), 197), ((',', \"''\"), 179), (('and', 'the'), 172), ((',', 'he'), 161), (('and', 'he'), 151), (('he', 'thought'), 145), (('the', 'fish'), 139), (('he', 'was'), 107), (('on', 'the'), 100), (('the', 'boy'), 96), (('he', 'said'), 96), ((\"''\", 'the'), 89), (('it', 'was'), 88), ((\"''\", 'he'), 87), (('the', 'line'), 83), (('he', 'had'), 80), (('the', 'water'), 73)]\n"
     ]
    }
   ],
   "source": [
    "# write your code to extract the most popular STEMMED bigrams\n",
    "result_bigram = Counter(bigrammed_sentences).most_common(20)\n",
    "print(result_bigram)"
   ]
  }
 ],
 "metadata": {
  "kernelspec": {
   "display_name": "Python 3",
   "language": "python",
   "name": "python3"
  },
  "language_info": {
   "codemirror_mode": {
    "name": "ipython",
    "version": 3
   },
   "file_extension": ".py",
   "mimetype": "text/x-python",
   "name": "python",
   "nbconvert_exporter": "python",
   "pygments_lexer": "ipython3",
   "version": "3.7.1"
  }
 },
 "nbformat": 4,
 "nbformat_minor": 2
}
