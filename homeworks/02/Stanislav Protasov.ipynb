{
 "cells": [
  {
   "cell_type": "code",
   "execution_count": 1,
   "metadata": {
    "collapsed": true
   },
   "outputs": [],
   "source": [
    "import itertools\n",
    "\n",
    "class Field(object):\n",
    "    state = None\n",
    "    parent = None\n",
    "    children = []\n",
    "    minimax_score = None\n",
    "    \n",
    "    def __init__(self, state):\n",
    "        self.state = state\n",
    "    \n",
    "    def print_me(self):\n",
    "        for line in self.state:\n",
    "            print(*line, sep='')\n",
    "    \n",
    "    def is_move_of(self, side):\n",
    "        cells = list(itertools.chain(*self.state))\n",
    "        my_moves = len([c for c in cells if c == side])\n",
    "        enemy_moves = len([c for c in cells if c not in (side, '.')])\n",
    "        player = 'o' if my_moves == enemy_moves else 'x'\n",
    "        return player == side\n",
    "\n",
    "    def is_win_of(self, side):\n",
    "        combinations = [\n",
    "            [(0, 0), (0, 1), (0, 2)],\n",
    "            [(1, 0), (1, 1), (1, 2)],\n",
    "            [(2, 0), (2, 1), (2, 2)],\n",
    "            [(0, 0), (1, 0), (2, 0)],\n",
    "            [(0, 1), (1, 1), (2, 1)],\n",
    "            [(0, 2), (1, 2), (2, 2)],\n",
    "            [(0, 0), (1, 1), (2, 2)],\n",
    "            [(2, 0), (1, 1), (0, 2)],\n",
    "        ]\n",
    "        for combo in combinations:\n",
    "            if all(map(lambda p: self.state[p[0]][p[1]] == side, combo)):\n",
    "                return True\n",
    "        return False\n",
    "    \n",
    "    def is_tie(self):\n",
    "        cells = list(itertools.chain(*self.state))\n",
    "        return len([c for c in cells if c == '.']) == 0\n",
    "    \n",
    "    def get_next_move(self, best_for_side):\n",
    "        best = None\n",
    "        mx = -100000 if best_for_side == 'x' else 100000\n",
    "        for child in self.children:\n",
    "            if best_for_side == 'x':\n",
    "                if child.minimax_score > mx:\n",
    "                    mx, best = child.minimax_score, child\n",
    "            else:\n",
    "                if child.minimax_score < mx:\n",
    "                    mx, best = child.minimax_score, child\n",
    "        return best\n",
    "    \n",
    "    def get_minimax_score(self, level):\n",
    "        if self.is_win_of('x'):\n",
    "            self.minimax_score = 10\n",
    "        elif self.is_win_of('o'):\n",
    "            self.minimax_score = -10\n",
    "        elif self.is_tie():\n",
    "            self.minimax_score = 0\n",
    "        elif level % 2 == 0:\n",
    "            self.minimax_score = min([child.get_minimax_score(level + 1) for child in self.children])\n",
    "        elif level % 2 == 1:\n",
    "            self.minimax_score = max([child.get_minimax_score(level + 1) for child in self.children])\n",
    "        return self.minimax_score"
   ]
  },
  {
   "cell_type": "code",
   "execution_count": 2,
   "metadata": {
    "collapsed": true
   },
   "outputs": [],
   "source": [
    "import copy\n",
    "\n",
    "def generate_children(field):\n",
    "    field.children = []\n",
    "    if field.is_win_of('x') or field.is_win_of('o') or field.is_tie():\n",
    "        return field.children\n",
    "    else:\n",
    "        for i in range(3):\n",
    "            for j in range(3):\n",
    "                if field.state[i][j] == '.':\n",
    "                    field_copy = copy.deepcopy(field.state)\n",
    "                    field_copy[i][j] = 'x' if field.is_move_of('o') else 'o'\n",
    "                    field.children.append(Field(field_copy))\n",
    "        return field.children\n",
    "\n",
    "\n",
    "def update_minimax(field):    \n",
    "    field.get_minimax_score(0)\n",
    "    return field.minimax_score"
   ]
  },
  {
   "cell_type": "code",
   "execution_count": 3,
   "metadata": {},
   "outputs": [
    {
     "name": "stdout",
     "output_type": "stream",
     "text": [
      "...\n",
      "...\n",
      "...\n",
      "Last field\n",
      "xxo\n",
      "oxo\n",
      "xox\n",
      "Total nodes in a tree: 549946\n",
      "Root score:  0\n",
      "Last node score:  10\n"
     ]
    }
   ],
   "source": [
    "# empty field\n",
    "state0 = [['.', '.', '.'], ['.', '.', '.'], ['.', '.', '.']]\n",
    "\n",
    "initial = Field(state0)\n",
    "initial.print_me()\n",
    "\n",
    "# generate a tree\n",
    "states = []\n",
    "states.append(initial)\n",
    "i = 0\n",
    "while i < len(states):\n",
    "    states += generate_children(states[i])\n",
    "    i += 1\n",
    "\n",
    "print(\"Last field\")\n",
    "states[-1].print_me()\n",
    "\n",
    "print('Total nodes in a tree:', len(states))\n",
    "\n",
    "update_minimax(initial)\n",
    "print(\"Root score: \", initial.minimax_score)\n",
    "print(\"Last node score: \", states[-1].minimax_score)"
   ]
  },
  {
   "cell_type": "code",
   "execution_count": 5,
   "metadata": {},
   "outputs": [
    {
     "name": "stdout",
     "output_type": "stream",
     "text": [
      "x..\n",
      "...\n",
      "...\n",
      "---\n",
      "x.o\n",
      "...\n",
      "...\n",
      "---\n",
      "x.o\n",
      "x..\n",
      "...\n",
      "---\n",
      "x.o\n",
      "x..\n",
      "o..\n",
      "---\n",
      "x.o\n",
      "xx.\n",
      "o..\n",
      "---\n",
      "x.o\n",
      "xx.\n",
      "o.o\n",
      "---\n",
      "x.o\n",
      "xxx\n",
      "o.o\n",
      "---\n"
     ]
    }
   ],
   "source": [
    "field = initial\n",
    "for side in ['x', 'o'] * 5:\n",
    "    new_field = field.get_next_move(side)\n",
    "    if new_field is not None:\n",
    "        new_field.print_me()\n",
    "        print(\"---\")\n",
    "        field = new_field\n",
    "    else:\n",
    "        break"
   ]
  }
 ],
 "metadata": {
  "kernelspec": {
   "display_name": "Python 3",
   "language": "python",
   "name": "python3"
  },
  "language_info": {
   "codemirror_mode": {
    "name": "ipython",
    "version": 3
   },
   "file_extension": ".py",
   "mimetype": "text/x-python",
   "name": "python",
   "nbconvert_exporter": "python",
   "pygments_lexer": "ipython3",
   "version": "3.6.3"
  }
 },
 "nbformat": 4,
 "nbformat_minor": 2
}
