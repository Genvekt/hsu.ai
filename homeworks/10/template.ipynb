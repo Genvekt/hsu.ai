{
 "cells": [
  {
   "cell_type": "code",
   "execution_count": 31,
   "metadata": {},
   "outputs": [
    {
     "name": "stdout",
     "output_type": "stream",
     "text": [
      "(696, 2100)\n",
      "(14490, 100) (14490, 100)\n"
     ]
    },
    {
     "data": {
      "image/png": "[encoded data removed]",
      "text/plain": [
       "<matplotlib.figure.Figure at 0x1b0da79d4e0>"
      ]
     },
     "metadata": {},
     "output_type": "display_data"
    },
    {
     "data": {
      "image/png": "[encoded data removed]",
      "text/plain": [
       "<matplotlib.figure.Figure at 0x1b0dbff2a90>"
      ]
     },
     "metadata": {},
     "output_type": "display_data"
    }
   ],
   "source": [
    "import cv2\n",
    "import numpy as np\n",
    "import matplotlib.pyplot as plt\n",
    "img = cv2.cvtColor(cv2.imread('../../code/datasets/images/hawaii.webp'), cv2.COLOR_BGR2GRAY)\n",
    "\n",
    "print(img.shape)\n",
    "SHIFT = 10\n",
    "train = []\n",
    "target = []\n",
    "\n",
    "for i in range(0, img.shape[0], SHIFT):\n",
    "    for j in range(0, img.shape[1], SHIFT):\n",
    "        tr = img[i:i+SHIFT,j:j+SHIFT].reshape(-1)\n",
    "        if tr.shape[0] < SHIFT ** 2:\n",
    "            continue\n",
    "        te = cv2.GaussianBlur(tr, ksize=(3, 3), sigmaX=21).reshape(-1)\n",
    "        train.append(tr)\n",
    "        target.append(te)\n",
    "        \n",
    "train = np.vstack(train)\n",
    "target = np.vstack(target)\n",
    "print(train.shape, target.shape)\n",
    "\n",
    "# sample\n",
    "plt.imshow(train[100,:].reshape((SHIFT, SHIFT)), cmap=\"gray\")\n",
    "plt.show()\n",
    "plt.imshow(target[100,:].reshape((SHIFT, SHIFT)), cmap=\"gray\")\n",
    "plt.show()"
   ]
  },
  {
   "cell_type": "code",
   "execution_count": null,
   "metadata": {
    "collapsed": true
   },
   "outputs": [],
   "source": []
  }
 ],
 "metadata": {
  "kernelspec": {
   "display_name": "Python 3",
   "language": "python",
   "name": "python3"
  },
  "language_info": {
   "codemirror_mode": {
    "name": "ipython",
    "version": 3
   },
   "file_extension": ".py",
   "mimetype": "text/x-python",
   "name": "python",
   "nbconvert_exporter": "python",
   "pygments_lexer": "ipython3",
   "version": "3.6.3"
  }
 },
 "nbformat": 4,
 "nbformat_minor": 2
}
